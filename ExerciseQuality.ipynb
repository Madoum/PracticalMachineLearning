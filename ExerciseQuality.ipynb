{
 "cells": [
  {
   "cell_type": "markdown",
   "metadata": {},
   "source": [
    "# PRACTICAL MACHINE LEARNING"
   ]
  },
  {
   "cell_type": "markdown",
   "metadata": {},
   "source": [
    "INSTRUCTIONS\n",
    "============\n",
    " The goal of your project is to predict the manner in which they did the exercise. This is the \"classe\" variable in the training set. You may use any of the other variables to predict with. You should create a report describing how you built your model, how you used cross validation, what you think the expected out of sample error is, and why you made the choices you did. You will also use your prediction model to predict 20 different test cases.\n",
    "\n",
    "INPUT DATA\n",
    "=========="
   ]
  },
  {
   "cell_type": "code",
   "execution_count": 19,
   "metadata": {
    "collapsed": false
   },
   "outputs": [
    {
     "data": {
      "text/html": [
       "19622"
      ],
      "text/latex": [
       "19622"
      ],
      "text/markdown": [
       "19622"
      ],
      "text/plain": [
       "[1] 19622"
      ]
     },
     "execution_count": 19,
     "metadata": {},
     "output_type": "execute_result"
    },
    {
     "data": {
      "text/html": [
       "<ol class=list-inline>\n",
       "\t<li>19622</li>\n",
       "\t<li>160</li>\n",
       "</ol>\n"
      ],
      "text/latex": [
       "\\begin{enumerate*}\n",
       "\\item 19622\n",
       "\\item 160\n",
       "\\end{enumerate*}\n"
      ],
      "text/markdown": [
       "1. 19622\n",
       "2. 160\n",
       "\n",
       "\n"
      ],
      "text/plain": [
       "[1] 19622   160"
      ]
     },
     "execution_count": 19,
     "metadata": {},
     "output_type": "execute_result"
    }
   ],
   "source": [
    "#read.csv(file_dest_training, na.strings=c(\"NA\",\"\"), header=TRUE)\n",
    "#ExoData=read.csv(file=\"pml-training.csv\",head=TRUE,sep=\",\", stringsAsFactors=FALSE)\n",
    "ExoData=read.csv(file=\"pml-training.csv\", na.strings=c(\"NA\",\"\"), header=TRUE)\n",
    "nrow(ExoData)\n",
    "#str(ExoData)\n",
    "dim(ExoData)"
   ]
  },
  {
   "cell_type": "markdown",
   "metadata": {},
   "source": [
    "FEATURES\n",
    "========\n",
    "Having verified that the schema of both the training and testing sets are not identical, I decided to eliminate both NA columns and other extraneous columns.\n"
   ]
  },
  {
   "cell_type": "code",
   "execution_count": 18,
   "metadata": {
    "collapsed": false
   },
   "outputs": [
    {
     "data": {
      "text/html": [
       "<ol class=list-inline>\n",
       "\t<li>19622</li>\n",
       "\t<li>60</li>\n",
       "</ol>\n"
      ],
      "text/latex": [
       "\\begin{enumerate*}\n",
       "\\item 19622\n",
       "\\item 60\n",
       "\\end{enumerate*}\n"
      ],
      "text/markdown": [
       "1. 19622\n",
       "2. 60\n",
       "\n",
       "\n"
      ],
      "text/plain": [
       "[1] 19622    60"
      ]
     },
     "execution_count": 18,
     "metadata": {},
     "output_type": "execute_result"
    }
   ],
   "source": [
    "b=sapply(ExoData, function(x) sum(is.na(x)))\n",
    "FullData=subset(ExoData,select=c(which(!b>0)), stringsAsFactors=FALSE)\n",
    "#str(FullData)\n",
    "dim(FullData)"
   ]
  },
  {
   "cell_type": "markdown",
   "metadata": {},
   "source": [
    "which leaves use with only 60 variables to train on."
   ]
  },
  {
   "cell_type": "code",
   "execution_count": 17,
   "metadata": {
    "collapsed": false
   },
   "outputs": [
    {
     "data": {
      "text/html": [
       "<ol class=list-inline>\n",
       "\t<li>19622</li>\n",
       "\t<li>60</li>\n",
       "</ol>\n"
      ],
      "text/latex": [
       "\\begin{enumerate*}\n",
       "\\item 19622\n",
       "\\item 60\n",
       "\\end{enumerate*}\n"
      ],
      "text/markdown": [
       "1. 19622\n",
       "2. 60\n",
       "\n",
       "\n"
      ],
      "text/plain": [
       "[1] 19622    60"
      ]
     },
     "execution_count": 17,
     "metadata": {},
     "output_type": "execute_result"
    }
   ],
   "source": [
    "smartData=FullData\n",
    "smartData=smartData[,colSums(smartData != 0) != 0] \n",
    "dim(smartData)\n",
    "s=sapply(smartData, function(x) sum(is.na(x)))\n",
    "#str(smartData)"
   ]
  },
  {
   "cell_type": "markdown",
   "metadata": {
    "collapsed": false
   },
   "source": [
    "### Random Forest Model\n",
    "We implement a random forest model using cross validation to control overfitting: "
   ]
  },
  {
   "cell_type": "code",
   "execution_count": 5,
   "metadata": {
    "collapsed": false
   },
   "outputs": [
    {
     "name": "stderr",
     "output_type": "stream",
     "text": [
      "Loading required package: lattice\n",
      "Loading required package: ggplot2\n"
     ]
    }
   ],
   "source": [
    "library(caret)\n",
    "library(mlbench)\n",
    "set.seed(3)"
   ]
  },
  {
   "cell_type": "code",
   "execution_count": 6,
   "metadata": {
    "collapsed": false
   },
   "outputs": [
    {
     "data": {
      "text/html": [
       "<ol class=list-inline>\n",
       "\t<li>19622</li>\n",
       "\t<li>58</li>\n",
       "</ol>\n"
      ],
      "text/latex": [
       "\\begin{enumerate*}\n",
       "\\item 19622\n",
       "\\item 58\n",
       "\\end{enumerate*}\n"
      ],
      "text/markdown": [
       "1. 19622\n",
       "2. 58\n",
       "\n",
       "\n"
      ],
      "text/plain": [
       "[1] 19622    58"
      ]
     },
     "execution_count": 6,
     "metadata": {},
     "output_type": "execute_result"
    }
   ],
   "source": [
    "tData=smartData\n",
    "tData$cvtd_timestamp=NULL #with these in, there was a factor level mismatch with final validation set\n",
    "tData$new_window=NULL #  final validation set\n",
    "dim(tData)\n",
    "trainIdx=createDataPartition(tData$classe, p = .75, list=FALSE)\n",
    "trainD=tData[trainIdx,]\n",
    "testD=tData[-trainIdx,]\n",
    "x <- trainD[,-58]\n",
    "y <- trainD[,58]"
   ]
  },
  {
   "cell_type": "code",
   "execution_count": 7,
   "metadata": {
    "collapsed": false
   },
   "outputs": [
    {
     "name": "stderr",
     "output_type": "stream",
     "text": [
      "Loading required package: foreach\n",
      "Loading required package: iterators\n"
     ]
    }
   ],
   "source": [
    "library(parallel)\n",
    "library(doParallel)\n",
    "cluster <- makeCluster(detectCores() - 1) # convention to leave 1 core for OS\n",
    "registerDoParallel(cluster)"
   ]
  },
  {
   "cell_type": "markdown",
   "metadata": {},
   "source": [
    "CROSS VALIDATION\n",
    "================\n",
    "we use 10-folds cross validation to control overfitting"
   ]
  },
  {
   "cell_type": "code",
   "execution_count": 8,
   "metadata": {
    "collapsed": true
   },
   "outputs": [],
   "source": [
    "fitControl <- trainControl(method = \"cv\",\n",
    "                           number = 10,\n",
    "                           allowParallel = TRUE)"
   ]
  },
  {
   "cell_type": "code",
   "execution_count": 9,
   "metadata": {
    "collapsed": false,
    "scrolled": true
   },
   "outputs": [
    {
     "name": "stderr",
     "output_type": "stream",
     "text": [
      "Loading required package: randomForest\n",
      "randomForest 4.6-12\n",
      "Type rfNews() to see new features/changes/bug fixes.\n",
      "\n",
      "Attaching package: ‘randomForest’\n",
      "\n",
      "The following object is masked from ‘package:ggplot2’:\n",
      "\n",
      "    margin\n",
      "\n"
     ]
    },
    {
     "data": {
      "image/png": "[encoded data removed]",
      "image/svg+xml": [
       "<?xml version=\"1.0\" encoding=\"UTF-8\"?>\n",
       "<svg xmlns=\"http://www.w3.org/2000/svg\" xmlns:xlink=\"http://www.w3.org/1999/xlink\" width=\"504pt\" height=\"504pt\" viewBox=\"0 0 504 504\" version=\"1.1\">\n",
       "<defs>\n",
       "<g>\n",
       "<symbol overflow=\"visible\" id=\"glyph0-0\">\n",
       "<path style=\"stroke:none;\" d=\"\"/>\n",
       "</symbol>\n",
       "<symbol overflow=\"visible\" id=\"glyph0-1\">\n",
       "<path style=\"stroke:none;\" d=\"M 6.5 -5.203125 L 6.5 -6.015625 L 5.390625 -6.015625 L 5.8125 -8.359375 L 4.890625 -8.359375 L 4.46875 -6.015625 L 2.96875 -6.015625 L 3.40625 -8.359375 L 2.5 -8.359375 L 2.0625 -6.015625 L 0.609375 -6.015625 L 0.609375 -5.203125 L 1.90625 -5.203125 L 1.53125 -3.109375 L 0.171875 -3.109375 L 0.171875 -2.296875 L 1.375 -2.296875 L 0.921875 0.234375 L 1.84375 0.234375 L 2.296875 -2.296875 L 3.796875 -2.296875 L 3.34375 0.234375 L 4.25 0.234375 L 4.71875 -2.296875 L 6.125 -2.296875 L 6.125 -3.109375 L 4.859375 -3.109375 L 5.234375 -5.203125 Z M 4.3125 -5.203125 L 3.953125 -3.109375 L 2.453125 -3.109375 L 2.828125 -5.203125 Z M 4.3125 -5.203125 \"/>\n",
       "</symbol>\n",
       "<symbol overflow=\"visible\" id=\"glyph0-2\">\n",
       "<path style=\"stroke:none;\" d=\"M 8.140625 0 L 8.140625 -0.28125 C 7.734375 -0.5625 7.625 -0.875 7.625 -2.046875 C 7.59375 -3.484375 7.375 -3.90625 6.4375 -4.3125 C 7.421875 -4.796875 7.8125 -5.40625 7.8125 -6.40625 C 7.8125 -7.921875 6.859375 -8.75 5.140625 -8.75 L 1.109375 -8.75 L 1.109375 0 L 2.234375 0 L 2.234375 -3.765625 L 5.109375 -3.765625 C 6.09375 -3.765625 6.5625 -3.28125 6.546875 -2.203125 L 6.546875 -1.421875 C 6.53125 -0.890625 6.640625 -0.359375 6.796875 0 Z M 6.640625 -6.25 C 6.640625 -5.21875 6.125 -4.75 4.9375 -4.75 L 2.234375 -4.75 L 2.234375 -7.765625 L 4.9375 -7.765625 C 6.1875 -7.765625 6.640625 -7.234375 6.640625 -6.25 Z M 6.640625 -6.25 \"/>\n",
       "</symbol>\n",
       "<symbol overflow=\"visible\" id=\"glyph0-3\">\n",
       "<path style=\"stroke:none;\" d=\"M 6.421875 -0.03125 L 6.421875 -0.78125 C 6.3125 -0.75 6.265625 -0.75 6.203125 -0.75 C 5.859375 -0.75 5.65625 -0.9375 5.65625 -1.25 L 5.65625 -4.75 C 5.65625 -5.875 4.84375 -6.46875 3.296875 -6.46875 C 1.78125 -6.46875 0.84375 -5.875 0.78125 -4.421875 L 1.78125 -4.421875 C 1.875 -5.203125 2.328125 -5.546875 3.265625 -5.546875 C 4.15625 -5.546875 4.671875 -5.203125 4.671875 -4.609375 L 4.671875 -4.34375 C 4.671875 -3.921875 4.421875 -3.75 3.625 -3.640625 C 2.203125 -3.46875 1.984375 -3.421875 1.609375 -3.265625 C 0.875 -2.96875 0.5 -2.40625 0.5 -1.625 C 0.5 -0.484375 1.296875 0.1875 2.5625 0.1875 C 3.375 0.1875 4.15625 -0.15625 4.703125 -0.75 C 4.8125 -0.265625 5.25 0.078125 5.734375 0.078125 C 5.9375 0.078125 6.09375 0.0625 6.421875 -0.03125 Z M 4.671875 -2.171875 C 4.671875 -1.265625 3.75 -0.703125 2.78125 -0.703125 C 2 -0.703125 1.546875 -0.96875 1.546875 -1.65625 C 1.546875 -2.3125 1.984375 -2.609375 3.0625 -2.765625 C 4.109375 -2.90625 4.328125 -2.953125 4.671875 -3.109375 Z M 4.671875 -2.171875 \"/>\n",
       "</symbol>\n",
       "<symbol overflow=\"visible\" id=\"glyph0-4\">\n",
       "<path style=\"stroke:none;\" d=\"M 5.84375 0 L 5.84375 -4.75 C 5.84375 -5.796875 5.0625 -6.46875 3.859375 -6.46875 C 2.921875 -6.46875 2.3125 -6.109375 1.765625 -5.234375 L 1.765625 -6.28125 L 0.84375 -6.28125 L 0.84375 0 L 1.84375 0 L 1.84375 -3.46875 C 1.84375 -4.75 2.53125 -5.59375 3.546875 -5.59375 C 4.34375 -5.59375 4.84375 -5.109375 4.84375 -4.359375 L 4.84375 0 Z M 5.84375 0 \"/>\n",
       "</symbol>\n",
       "<symbol overflow=\"visible\" id=\"glyph0-5\">\n",
       "<path style=\"stroke:none;\" d=\"M 5.9375 0 L 5.9375 -8.75 L 4.9375 -8.75 L 4.9375 -5.5 C 4.53125 -6.125 3.859375 -6.46875 3.015625 -6.46875 C 1.375 -6.46875 0.3125 -5.203125 0.3125 -3.203125 C 0.3125 -1.078125 1.359375 0.1875 3.046875 0.1875 C 3.90625 0.1875 4.515625 -0.140625 5.046875 -0.921875 L 5.046875 0 Z M 4.9375 -3.125 C 4.9375 -1.671875 4.25 -0.75 3.1875 -0.75 C 2.09375 -0.75 1.359375 -1.6875 1.359375 -3.140625 C 1.359375 -4.609375 2.09375 -5.53125 3.1875 -5.53125 C 4.265625 -5.53125 4.9375 -4.578125 4.9375 -3.125 Z M 4.9375 -3.125 \"/>\n",
       "</symbol>\n",
       "<symbol overflow=\"visible\" id=\"glyph0-6\">\n",
       "<path style=\"stroke:none;\" d=\"M 6.125 -3.09375 C 6.125 -5.265625 5.078125 -6.46875 3.265625 -6.46875 C 1.5 -6.46875 0.4375 -5.25 0.4375 -3.140625 C 0.4375 -1.03125 1.484375 0.1875 3.28125 0.1875 C 5.046875 0.1875 6.125 -1.03125 6.125 -3.09375 Z M 5.078125 -3.109375 C 5.078125 -1.625 4.375 -0.75 3.28125 -0.75 C 2.15625 -0.75 1.46875 -1.625 1.46875 -3.140625 C 1.46875 -4.65625 2.15625 -5.546875 3.28125 -5.546875 C 4.40625 -5.546875 5.078125 -4.671875 5.078125 -3.109375 Z M 5.078125 -3.109375 \"/>\n",
       "</symbol>\n",
       "<symbol overflow=\"visible\" id=\"glyph0-7\">\n",
       "<path style=\"stroke:none;\" d=\"M 9.125 0 L 9.125 -4.71875 C 9.125 -5.84375 8.5 -6.46875 7.3125 -6.46875 C 6.484375 -6.46875 5.96875 -6.21875 5.390625 -5.515625 C 5.015625 -6.1875 4.515625 -6.46875 3.703125 -6.46875 C 2.859375 -6.46875 2.296875 -6.15625 1.765625 -5.40625 L 1.765625 -6.28125 L 0.859375 -6.28125 L 0.859375 0 L 1.84375 0 L 1.84375 -3.953125 C 1.84375 -4.859375 2.515625 -5.59375 3.328125 -5.59375 C 4.0625 -5.59375 4.484375 -5.140625 4.484375 -4.328125 L 4.484375 0 L 5.484375 0 L 5.484375 -3.953125 C 5.484375 -4.859375 6.15625 -5.59375 6.96875 -5.59375 C 7.703125 -5.59375 8.125 -5.125 8.125 -4.328125 L 8.125 0 Z M 9.125 0 \"/>\n",
       "</symbol>\n",
       "<symbol overflow=\"visible\" id=\"glyph0-8\">\n",
       "<path style=\"stroke:none;\" d=\"M 1.8125 0 L 1.8125 -8.75 L 0.8125 -8.75 L 0.8125 0 Z M 1.8125 0 \"/>\n",
       "</symbol>\n",
       "<symbol overflow=\"visible\" id=\"glyph0-9\">\n",
       "<path style=\"stroke:none;\" d=\"M 5.734375 -6.28125 L 4.65625 -6.28125 L 2.921875 -1.390625 L 1.3125 -6.28125 L 0.234375 -6.28125 L 2.359375 0.03125 L 1.984375 1.015625 C 1.8125 1.46875 1.609375 1.625 1.171875 1.625 C 1.03125 1.625 0.859375 1.609375 0.640625 1.5625 L 0.640625 2.453125 C 0.859375 2.5625 1.0625 2.609375 1.3125 2.609375 C 2.03125 2.609375 2.609375 2.21875 2.9375 1.3125 Z M 5.734375 -6.28125 \"/>\n",
       "</symbol>\n",
       "<symbol overflow=\"visible\" id=\"glyph0-10\">\n",
       "<path style=\"stroke:none;\" d=\"\"/>\n",
       "</symbol>\n",
       "<symbol overflow=\"visible\" id=\"glyph0-11\">\n",
       "<path style=\"stroke:none;\" d=\"M 7.453125 -2.40625 C 7.453125 -3.484375 6.78125 -4.265625 5.59375 -4.59375 L 3.390625 -5.1875 C 2.34375 -5.453125 1.953125 -5.8125 1.953125 -6.484375 C 1.953125 -7.375 2.734375 -8.03125 3.90625 -8.03125 C 5.296875 -8.03125 6.09375 -7.390625 6.09375 -6.25 L 7.15625 -6.25 C 7.15625 -7.96875 5.96875 -8.96875 3.953125 -8.96875 C 2.03125 -8.96875 0.84375 -7.90625 0.84375 -6.328125 C 0.84375 -5.25 1.40625 -4.578125 2.5625 -4.28125 L 4.734375 -3.703125 C 5.828125 -3.421875 6.34375 -2.96875 6.34375 -2.296875 C 6.34375 -1.328125 5.609375 -0.765625 4.109375 -0.765625 C 2.453125 -0.765625 1.625 -1.59375 1.625 -2.84375 L 0.578125 -2.84375 C 0.578125 -0.78125 1.96875 0.21875 4.03125 0.21875 C 6.25 0.21875 7.453125 -0.84375 7.453125 -2.40625 Z M 7.453125 -2.40625 \"/>\n",
       "</symbol>\n",
       "<symbol overflow=\"visible\" id=\"glyph0-12\">\n",
       "<path style=\"stroke:none;\" d=\"M 6.15625 -2.859375 C 6.15625 -3.765625 6.078125 -4.34375 5.90625 -4.8125 C 5.5 -5.84375 4.53125 -6.46875 3.359375 -6.46875 C 1.609375 -6.46875 0.484375 -5.171875 0.484375 -3.109375 C 0.484375 -1.046875 1.578125 0.1875 3.34375 0.1875 C 4.78125 0.1875 5.765625 -0.640625 6.03125 -1.90625 L 5.015625 -1.90625 C 4.734375 -1.078125 4.171875 -0.75 3.375 -0.75 C 2.328125 -0.75 1.546875 -1.421875 1.53125 -2.859375 Z M 5.09375 -3.75 C 5.09375 -3.75 5.09375 -3.703125 5.078125 -3.671875 L 1.546875 -3.671875 C 1.625 -4.78125 2.34375 -5.546875 3.34375 -5.546875 C 4.328125 -5.546875 5.09375 -4.734375 5.09375 -3.75 Z M 5.09375 -3.75 \"/>\n",
       "</symbol>\n",
       "<symbol overflow=\"visible\" id=\"glyph0-13\">\n",
       "<path style=\"stroke:none;\" d=\"M 5.71875 -2.15625 L 4.71875 -2.15625 C 4.546875 -1.15625 4.03125 -0.75 3.1875 -0.75 C 2.078125 -0.75 1.421875 -1.59375 1.421875 -3.078125 C 1.421875 -4.65625 2.0625 -5.546875 3.15625 -5.546875 C 4 -5.546875 4.53125 -5.046875 4.640625 -4.171875 L 5.65625 -4.171875 C 5.53125 -5.71875 4.578125 -6.46875 3.171875 -6.46875 C 1.46875 -6.46875 0.375 -5.171875 0.375 -3.078125 C 0.375 -1.0625 1.453125 0.1875 3.15625 0.1875 C 4.65625 0.1875 5.609375 -0.71875 5.71875 -2.15625 Z M 5.71875 -2.15625 \"/>\n",
       "</symbol>\n",
       "<symbol overflow=\"visible\" id=\"glyph0-14\">\n",
       "<path style=\"stroke:none;\" d=\"M 3.046875 0 L 3.046875 -0.84375 C 2.921875 -0.796875 2.765625 -0.796875 2.5625 -0.796875 C 2.140625 -0.796875 2.015625 -0.90625 2.015625 -1.359375 L 2.015625 -5.46875 L 3.046875 -5.46875 L 3.046875 -6.28125 L 2.015625 -6.28125 L 2.015625 -8.015625 L 1.015625 -8.015625 L 1.015625 -6.28125 L 0.171875 -6.28125 L 0.171875 -5.46875 L 1.015625 -5.46875 L 1.015625 -0.90625 C 1.015625 -0.28125 1.453125 0.078125 2.234375 0.078125 C 2.46875 0.078125 2.71875 0.0625 3.046875 0 Z M 3.046875 0 \"/>\n",
       "</symbol>\n",
       "<symbol overflow=\"visible\" id=\"glyph0-15\">\n",
       "<path style=\"stroke:none;\" d=\"M 7.40625 -6.1875 C 7.40625 -7.828125 6.4375 -8.75 4.703125 -8.75 L 1.09375 -8.75 L 1.09375 0 L 2.203125 0 L 2.203125 -3.703125 L 4.953125 -3.703125 C 6.390625 -3.703125 7.40625 -4.734375 7.40625 -6.1875 Z M 6.234375 -6.234375 C 6.234375 -5.265625 5.609375 -4.6875 4.53125 -4.6875 L 2.203125 -4.6875 L 2.203125 -7.765625 L 4.53125 -7.765625 C 5.609375 -7.765625 6.234375 -7.1875 6.234375 -6.234375 Z M 6.234375 -6.234375 \"/>\n",
       "</symbol>\n",
       "<symbol overflow=\"visible\" id=\"glyph0-16\">\n",
       "<path style=\"stroke:none;\" d=\"M 3.859375 -5.40625 L 3.859375 -6.4375 C 3.6875 -6.453125 3.59375 -6.46875 3.46875 -6.46875 C 2.8125 -6.46875 2.328125 -6.078125 1.75 -5.140625 L 1.75 -6.28125 L 0.84375 -6.28125 L 0.84375 0 L 1.84375 0 L 1.84375 -3.265625 C 1.84375 -4.6875 2.296875 -5.390625 3.859375 -5.40625 Z M 3.859375 -5.40625 \"/>\n",
       "</symbol>\n",
       "<symbol overflow=\"visible\" id=\"glyph0-17\">\n",
       "<path style=\"stroke:none;\" d=\"M 1.84375 0 L 1.84375 -6.28125 L 0.84375 -6.28125 L 0.84375 0 Z M 1.96875 -7.234375 L 1.96875 -8.484375 L 0.71875 -8.484375 L 0.71875 -7.234375 Z M 1.96875 -7.234375 \"/>\n",
       "</symbol>\n",
       "<symbol overflow=\"visible\" id=\"glyph0-18\">\n",
       "<path style=\"stroke:none;\" d=\"M 5.515625 -1.765625 C 5.515625 -2.703125 4.984375 -3.171875 3.734375 -3.46875 L 2.765625 -3.703125 C 1.953125 -3.890625 1.609375 -4.15625 1.609375 -4.59375 C 1.609375 -5.171875 2.125 -5.546875 2.9375 -5.546875 C 3.75 -5.546875 4.171875 -5.203125 4.203125 -4.53125 L 5.25 -4.53125 C 5.25 -5.765625 4.421875 -6.46875 2.96875 -6.46875 C 1.515625 -6.46875 0.5625 -5.71875 0.5625 -4.546875 C 0.5625 -3.5625 1.0625 -3.09375 2.5625 -2.734375 L 3.484375 -2.515625 C 4.1875 -2.34375 4.46875 -2.140625 4.46875 -1.6875 C 4.46875 -1.09375 3.875 -0.75 3 -0.75 C 2.09375 -0.75 1.59375 -0.953125 1.46875 -1.921875 L 0.40625 -1.921875 C 0.453125 -0.46875 1.265625 0.1875 2.921875 0.1875 C 4.5 0.1875 5.515625 -0.546875 5.515625 -1.765625 Z M 5.515625 -1.765625 \"/>\n",
       "</symbol>\n",
       "<symbol overflow=\"visible\" id=\"glyph1-0\">\n",
       "<path style=\"stroke:none;\" d=\"\"/>\n",
       "</symbol>\n",
       "<symbol overflow=\"visible\" id=\"glyph1-1\">\n",
       "<path style=\"stroke:none;\" d=\"M 0 -7.84375 L -8.75 -4.765625 L -8.75 -3.328125 L 0 -0.203125 L 0 -1.390625 L -2.625 -2.3125 L -2.625 -5.6875 L 0 -6.59375 Z M -3.5625 -5.375 L -3.5625 -2.59375 L -7.546875 -4.03125 Z M -3.5625 -5.375 \"/>\n",
       "</symbol>\n",
       "<symbol overflow=\"visible\" id=\"glyph1-2\">\n",
       "<path style=\"stroke:none;\" d=\"M -2.15625 -5.71875 L -2.15625 -4.71875 C -1.15625 -4.546875 -0.75 -4.03125 -0.75 -3.1875 C -0.75 -2.078125 -1.59375 -1.421875 -3.078125 -1.421875 C -4.65625 -1.421875 -5.546875 -2.0625 -5.546875 -3.15625 C -5.546875 -4 -5.046875 -4.53125 -4.171875 -4.640625 L -4.171875 -5.65625 C -5.71875 -5.53125 -6.46875 -4.578125 -6.46875 -3.171875 C -6.46875 -1.46875 -5.171875 -0.375 -3.078125 -0.375 C -1.0625 -0.375 0.1875 -1.453125 0.1875 -3.15625 C 0.1875 -4.65625 -0.71875 -5.609375 -2.15625 -5.71875 Z M -2.15625 -5.71875 \"/>\n",
       "</symbol>\n",
       "<symbol overflow=\"visible\" id=\"glyph1-3\">\n",
       "<path style=\"stroke:none;\" d=\"M 0 -5.78125 L -6.28125 -5.78125 L -6.28125 -4.78125 L -2.8125 -4.78125 C -1.53125 -4.78125 -0.703125 -4.109375 -0.703125 -3.078125 C -0.703125 -2.28125 -1.171875 -1.78125 -1.9375 -1.78125 L -6.28125 -1.78125 L -6.28125 -0.78125 L -1.53125 -0.78125 C -0.484375 -0.78125 0.1875 -1.5625 0.1875 -2.78125 C 0.1875 -3.703125 -0.140625 -4.296875 -0.96875 -4.890625 L 0 -4.890625 Z M 0 -5.78125 \"/>\n",
       "</symbol>\n",
       "<symbol overflow=\"visible\" id=\"glyph1-4\">\n",
       "<path style=\"stroke:none;\" d=\"M -5.40625 -3.859375 L -6.4375 -3.859375 C -6.453125 -3.6875 -6.46875 -3.59375 -6.46875 -3.46875 C -6.46875 -2.8125 -6.078125 -2.328125 -5.140625 -1.75 L -6.28125 -1.75 L -6.28125 -0.84375 L 0 -0.84375 L 0 -1.84375 L -3.265625 -1.84375 C -4.6875 -1.84375 -5.390625 -2.296875 -5.40625 -3.859375 Z M -5.40625 -3.859375 \"/>\n",
       "</symbol>\n",
       "<symbol overflow=\"visible\" id=\"glyph1-5\">\n",
       "<path style=\"stroke:none;\" d=\"M -0.03125 -6.421875 L -0.78125 -6.421875 C -0.75 -6.3125 -0.75 -6.265625 -0.75 -6.203125 C -0.75 -5.859375 -0.9375 -5.65625 -1.25 -5.65625 L -4.75 -5.65625 C -5.875 -5.65625 -6.46875 -4.84375 -6.46875 -3.296875 C -6.46875 -1.78125 -5.875 -0.84375 -4.421875 -0.78125 L -4.421875 -1.78125 C -5.203125 -1.875 -5.546875 -2.328125 -5.546875 -3.265625 C -5.546875 -4.15625 -5.203125 -4.671875 -4.609375 -4.671875 L -4.34375 -4.671875 C -3.921875 -4.671875 -3.75 -4.421875 -3.640625 -3.625 C -3.46875 -2.203125 -3.421875 -1.984375 -3.265625 -1.609375 C -2.96875 -0.875 -2.40625 -0.5 -1.625 -0.5 C -0.484375 -0.5 0.1875 -1.296875 0.1875 -2.5625 C 0.1875 -3.375 -0.15625 -4.15625 -0.75 -4.703125 C -0.265625 -4.8125 0.078125 -5.25 0.078125 -5.734375 C 0.078125 -5.9375 0.0625 -6.09375 -0.03125 -6.421875 Z M -2.171875 -4.671875 C -1.265625 -4.671875 -0.703125 -3.75 -0.703125 -2.78125 C -0.703125 -2 -0.96875 -1.546875 -1.65625 -1.546875 C -2.3125 -1.546875 -2.609375 -1.984375 -2.765625 -3.0625 C -2.90625 -4.109375 -2.953125 -4.328125 -3.109375 -4.671875 Z M -2.171875 -4.671875 \"/>\n",
       "</symbol>\n",
       "<symbol overflow=\"visible\" id=\"glyph1-6\">\n",
       "<path style=\"stroke:none;\" d=\"M -6.28125 -5.734375 L -6.28125 -4.65625 L -1.390625 -2.921875 L -6.28125 -1.3125 L -6.28125 -0.234375 L 0.03125 -2.359375 L 1.015625 -1.984375 C 1.46875 -1.8125 1.625 -1.609375 1.625 -1.171875 C 1.625 -1.03125 1.609375 -0.859375 1.5625 -0.640625 L 2.453125 -0.640625 C 2.5625 -0.859375 2.609375 -1.0625 2.609375 -1.3125 C 2.609375 -2.03125 2.21875 -2.609375 1.3125 -2.9375 Z M -6.28125 -5.734375 \"/>\n",
       "</symbol>\n",
       "<symbol overflow=\"visible\" id=\"glyph1-7\">\n",
       "<path style=\"stroke:none;\" d=\"\"/>\n",
       "</symbol>\n",
       "<symbol overflow=\"visible\" id=\"glyph1-8\">\n",
       "<path style=\"stroke:none;\" d=\"M 2.546875 -3.484375 C 0.828125 -2.4375 -1.1875 -1.84375 -3.109375 -1.84375 C -5.015625 -1.84375 -7.046875 -2.4375 -8.75 -3.484375 L -8.75 -2.828125 C -7.171875 -1.625 -4.984375 -0.875 -3.109375 -0.875 C -1.21875 -0.875 0.96875 -1.625 2.546875 -2.828125 Z M 2.546875 -3.484375 \"/>\n",
       "</symbol>\n",
       "<symbol overflow=\"visible\" id=\"glyph1-9\">\n",
       "<path style=\"stroke:none;\" d=\"M -3.1875 -8.125 L -3.1875 -6.96875 C -1.53125 -6.703125 -0.765625 -6.015625 -0.765625 -4.53125 C -0.765625 -2.796875 -2.09375 -1.6875 -4.28125 -1.6875 C -6.53125 -1.6875 -7.984375 -2.75 -7.984375 -4.4375 C -7.984375 -5.8125 -7.375 -6.53125 -6.03125 -6.796875 L -6.03125 -7.9375 C -7.953125 -7.59375 -8.96875 -6.484375 -8.96875 -4.578125 C -8.96875 -1.921875 -6.828125 -0.578125 -4.265625 -0.578125 C -1.71875 -0.578125 0.21875 -1.953125 0.21875 -4.53125 C 0.21875 -6.65625 -0.90625 -7.859375 -3.1875 -8.125 Z M -3.1875 -8.125 \"/>\n",
       "</symbol>\n",
       "<symbol overflow=\"visible\" id=\"glyph1-10\">\n",
       "<path style=\"stroke:none;\" d=\"M -3.09375 -6.125 C -5.265625 -6.125 -6.46875 -5.078125 -6.46875 -3.265625 C -6.46875 -1.5 -5.25 -0.4375 -3.140625 -0.4375 C -1.03125 -0.4375 0.1875 -1.484375 0.1875 -3.28125 C 0.1875 -5.046875 -1.03125 -6.125 -3.09375 -6.125 Z M -3.109375 -5.078125 C -1.625 -5.078125 -0.75 -4.375 -0.75 -3.28125 C -0.75 -2.15625 -1.625 -1.46875 -3.140625 -1.46875 C -4.65625 -1.46875 -5.546875 -2.15625 -5.546875 -3.28125 C -5.546875 -4.40625 -4.671875 -5.078125 -3.109375 -5.078125 Z M -3.109375 -5.078125 \"/>\n",
       "</symbol>\n",
       "<symbol overflow=\"visible\" id=\"glyph1-11\">\n",
       "<path style=\"stroke:none;\" d=\"M -1.765625 -5.515625 C -2.703125 -5.515625 -3.171875 -4.984375 -3.46875 -3.734375 L -3.703125 -2.765625 C -3.890625 -1.953125 -4.15625 -1.609375 -4.59375 -1.609375 C -5.171875 -1.609375 -5.546875 -2.125 -5.546875 -2.9375 C -5.546875 -3.75 -5.203125 -4.171875 -4.53125 -4.203125 L -4.53125 -5.25 C -5.765625 -5.25 -6.46875 -4.421875 -6.46875 -2.96875 C -6.46875 -1.515625 -5.71875 -0.5625 -4.546875 -0.5625 C -3.5625 -0.5625 -3.09375 -1.0625 -2.734375 -2.5625 L -2.515625 -3.484375 C -2.34375 -4.1875 -2.140625 -4.46875 -1.6875 -4.46875 C -1.09375 -4.46875 -0.75 -3.875 -0.75 -3 C -0.75 -2.09375 -0.953125 -1.59375 -1.921875 -1.46875 L -1.921875 -0.40625 C -0.46875 -0.453125 0.1875 -1.265625 0.1875 -2.921875 C 0.1875 -4.5 -0.546875 -5.515625 -1.765625 -5.515625 Z M -1.765625 -5.515625 \"/>\n",
       "</symbol>\n",
       "<symbol overflow=\"visible\" id=\"glyph1-12\">\n",
       "<path style=\"stroke:none;\" d=\"M -2.875 -3.40625 L -3.75 -3.40625 L -3.75 -0.546875 L -2.875 -0.546875 Z M -2.875 -3.40625 \"/>\n",
       "</symbol>\n",
       "<symbol overflow=\"visible\" id=\"glyph1-13\">\n",
       "<path style=\"stroke:none;\" d=\"M -8.75 -7.734375 L -8.75 -6.546875 L -1.34375 -4.125 L -8.75 -1.5625 L -8.75 -0.359375 L 0 -3.5 L 0 -4.703125 Z M -8.75 -7.734375 \"/>\n",
       "</symbol>\n",
       "<symbol overflow=\"visible\" id=\"glyph1-14\">\n",
       "<path style=\"stroke:none;\" d=\"M 0 -1.8125 L -8.75 -1.8125 L -8.75 -0.8125 L 0 -0.8125 Z M 0 -1.8125 \"/>\n",
       "</symbol>\n",
       "<symbol overflow=\"visible\" id=\"glyph1-15\">\n",
       "<path style=\"stroke:none;\" d=\"M 0 -1.84375 L -6.28125 -1.84375 L -6.28125 -0.84375 L 0 -0.84375 Z M -7.234375 -1.96875 L -8.484375 -1.96875 L -8.484375 -0.71875 L -7.234375 -0.71875 Z M -7.234375 -1.96875 \"/>\n",
       "</symbol>\n",
       "<symbol overflow=\"visible\" id=\"glyph1-16\">\n",
       "<path style=\"stroke:none;\" d=\"M 0 -5.9375 L -8.75 -5.9375 L -8.75 -4.9375 L -5.5 -4.9375 C -6.125 -4.53125 -6.46875 -3.859375 -6.46875 -3.015625 C -6.46875 -1.375 -5.203125 -0.3125 -3.203125 -0.3125 C -1.078125 -0.3125 0.1875 -1.359375 0.1875 -3.046875 C 0.1875 -3.90625 -0.140625 -4.515625 -0.921875 -5.046875 L 0 -5.046875 Z M -3.125 -4.9375 C -1.671875 -4.9375 -0.75 -4.25 -0.75 -3.1875 C -0.75 -2.09375 -1.6875 -1.359375 -3.140625 -1.359375 C -4.609375 -1.359375 -5.53125 -2.09375 -5.53125 -3.1875 C -5.53125 -4.265625 -4.578125 -4.9375 -3.125 -4.9375 Z M -3.125 -4.9375 \"/>\n",
       "</symbol>\n",
       "<symbol overflow=\"visible\" id=\"glyph1-17\">\n",
       "<path style=\"stroke:none;\" d=\"M 0 -3.046875 L -0.84375 -3.046875 C -0.796875 -2.921875 -0.796875 -2.765625 -0.796875 -2.5625 C -0.796875 -2.140625 -0.90625 -2.015625 -1.359375 -2.015625 L -5.46875 -2.015625 L -5.46875 -3.046875 L -6.28125 -3.046875 L -6.28125 -2.015625 L -8.015625 -2.015625 L -8.015625 -1.015625 L -6.28125 -1.015625 L -6.28125 -0.171875 L -5.46875 -0.171875 L -5.46875 -1.015625 L -0.90625 -1.015625 C -0.28125 -1.015625 0.078125 -1.453125 0.078125 -2.234375 C 0.078125 -2.46875 0.0625 -2.71875 0 -3.046875 Z M 0 -3.046875 \"/>\n",
       "</symbol>\n",
       "<symbol overflow=\"visible\" id=\"glyph1-18\">\n",
       "<path style=\"stroke:none;\" d=\"M 0 -5.84375 L -4.75 -5.84375 C -5.796875 -5.84375 -6.46875 -5.0625 -6.46875 -3.859375 C -6.46875 -2.921875 -6.109375 -2.3125 -5.234375 -1.765625 L -6.28125 -1.765625 L -6.28125 -0.84375 L 0 -0.84375 L 0 -1.84375 L -3.46875 -1.84375 C -4.75 -1.84375 -5.59375 -2.53125 -5.59375 -3.546875 C -5.59375 -4.34375 -5.109375 -4.84375 -4.359375 -4.84375 L 0 -4.84375 Z M 0 -5.84375 \"/>\n",
       "</symbol>\n",
       "<symbol overflow=\"visible\" id=\"glyph1-19\">\n",
       "<path style=\"stroke:none;\" d=\"M -3.09375 -3.078125 C -4.984375 -3.078125 -7.171875 -2.3125 -8.75 -1.109375 L -8.75 -0.453125 C -7.03125 -1.515625 -5.015625 -2.09375 -3.09375 -2.09375 C -1.1875 -2.09375 0.84375 -1.515625 2.546875 -0.453125 L 2.546875 -1.109375 C 0.96875 -2.3125 -1.21875 -3.078125 -3.09375 -3.078125 Z M -3.09375 -3.078125 \"/>\n",
       "</symbol>\n",
       "<symbol overflow=\"visible\" id=\"glyph2-0\">\n",
       "<path style=\"stroke:none;\" d=\"\"/>\n",
       "</symbol>\n",
       "<symbol overflow=\"visible\" id=\"glyph2-1\">\n",
       "<path style=\"stroke:none;\" d=\"M 4.859375 -3.265625 C 4.859375 -5.625 4.109375 -6.796875 2.640625 -6.796875 C 1.171875 -6.796875 0.40625 -5.609375 0.40625 -3.328125 C 0.40625 -1.03125 1.1875 0.140625 2.640625 0.140625 C 4.078125 0.140625 4.859375 -1.03125 4.859375 -3.265625 Z M 4 -3.34375 C 4 -1.421875 3.5625 -0.5625 2.625 -0.5625 C 1.734375 -0.5625 1.28125 -1.453125 1.28125 -3.3125 C 1.28125 -5.1875 1.734375 -6.046875 2.640625 -6.046875 C 3.546875 -6.046875 4 -5.171875 4 -3.34375 Z M 4 -3.34375 \"/>\n",
       "</symbol>\n",
       "<symbol overflow=\"visible\" id=\"glyph2-2\">\n",
       "<path style=\"stroke:none;\" d=\"M 1.828125 0 L 1.828125 -1 L 0.828125 -1 L 0.828125 0 Z M 1.828125 0 \"/>\n",
       "</symbol>\n",
       "<symbol overflow=\"visible\" id=\"glyph2-3\">\n",
       "<path style=\"stroke:none;\" d=\"M 4.890625 -3.5625 C 4.890625 -5.6875 4.140625 -6.796875 2.59375 -6.796875 C 1.296875 -6.796875 0.359375 -5.875 0.359375 -4.546875 C 0.359375 -3.28125 1.234375 -2.421875 2.453125 -2.421875 C 3.09375 -2.421875 3.5625 -2.65625 4.015625 -3.1875 C 4 -1.53125 3.46875 -0.609375 2.5 -0.609375 C 1.90625 -0.609375 1.484375 -0.984375 1.359375 -1.625 L 0.515625 -1.625 C 0.671875 -0.515625 1.40625 0.140625 2.4375 0.140625 C 4.03125 0.140625 4.890625 -1.203125 4.890625 -3.5625 Z M 3.96875 -4.5625 C 3.96875 -3.734375 3.375 -3.171875 2.546875 -3.171875 C 1.734375 -3.171875 1.234375 -3.703125 1.234375 -4.609375 C 1.234375 -5.484375 1.796875 -6.0625 2.578125 -6.0625 C 3.375 -6.0625 3.96875 -5.453125 3.96875 -4.5625 Z M 3.96875 -4.5625 \"/>\n",
       "</symbol>\n",
       "<symbol overflow=\"visible\" id=\"glyph2-4\">\n",
       "<path style=\"stroke:none;\" d=\"M 4.921875 -1.921875 C 4.921875 -2.671875 4.53125 -3.203125 3.75 -3.578125 C 4.453125 -4 4.6875 -4.34375 4.6875 -4.984375 C 4.6875 -6.046875 3.84375 -6.796875 2.640625 -6.796875 C 1.4375 -6.796875 0.59375 -6.046875 0.59375 -4.984375 C 0.59375 -4.359375 0.828125 -4.015625 1.515625 -3.578125 C 0.734375 -3.203125 0.359375 -2.671875 0.359375 -1.921875 C 0.359375 -0.6875 1.296875 0.140625 2.640625 0.140625 C 3.984375 0.140625 4.921875 -0.6875 4.921875 -1.921875 Z M 3.8125 -4.96875 C 3.8125 -4.34375 3.34375 -3.921875 2.640625 -3.921875 C 1.921875 -3.921875 1.453125 -4.34375 1.453125 -4.984375 C 1.453125 -5.625 1.921875 -6.046875 2.640625 -6.046875 C 3.359375 -6.046875 3.8125 -5.625 3.8125 -4.96875 Z M 4.0625 -1.90625 C 4.0625 -1.109375 3.484375 -0.609375 2.625 -0.609375 C 1.796875 -0.609375 1.21875 -1.109375 1.21875 -1.90625 C 1.21875 -2.703125 1.796875 -3.203125 2.640625 -3.203125 C 3.484375 -3.203125 4.0625 -2.703125 4.0625 -1.90625 Z M 4.0625 -1.90625 \"/>\n",
       "</symbol>\n",
       "<symbol overflow=\"visible\" id=\"glyph2-5\">\n",
       "<path style=\"stroke:none;\" d=\"M 4.90625 -4.8125 C 4.90625 -5.953125 4.015625 -6.796875 2.71875 -6.796875 C 1.328125 -6.796875 0.53125 -6.09375 0.484375 -4.4375 L 1.328125 -4.4375 C 1.390625 -5.578125 1.859375 -6.0625 2.703125 -6.0625 C 3.46875 -6.0625 4.03125 -5.515625 4.03125 -4.78125 C 4.03125 -4.25 3.71875 -3.796875 3.125 -3.4375 L 2.234375 -2.9375 C 0.8125 -2.140625 0.40625 -1.5 0.328125 0 L 4.859375 0 L 4.859375 -0.828125 L 1.28125 -0.828125 C 1.359375 -1.390625 1.671875 -1.75 2.5 -2.234375 L 3.46875 -2.75 C 4.40625 -3.265625 4.90625 -3.96875 4.90625 -4.8125 Z M 4.90625 -4.8125 \"/>\n",
       "</symbol>\n",
       "<symbol overflow=\"visible\" id=\"glyph2-6\">\n",
       "<path style=\"stroke:none;\" d=\"M 4.984375 -1.625 L 4.984375 -2.390625 L 3.984375 -2.390625 L 3.984375 -6.796875 L 3.359375 -6.796875 L 0.265625 -2.515625 L 0.265625 -1.625 L 3.140625 -1.625 L 3.140625 0 L 3.984375 0 L 3.984375 -1.625 Z M 3.140625 -2.390625 L 1 -2.390625 L 3.140625 -5.359375 Z M 3.140625 -2.390625 \"/>\n",
       "</symbol>\n",
       "<symbol overflow=\"visible\" id=\"glyph2-7\">\n",
       "<path style=\"stroke:none;\" d=\"M 4.921875 -2.109375 C 4.921875 -3.375 4.0625 -4.234375 2.84375 -4.234375 C 2.171875 -4.234375 1.640625 -3.96875 1.28125 -3.46875 C 1.28125 -5.125 1.828125 -6.046875 2.796875 -6.046875 C 3.390625 -6.046875 3.796875 -5.671875 3.9375 -5.03125 L 4.78125 -5.03125 C 4.609375 -6.140625 3.890625 -6.796875 2.84375 -6.796875 C 1.265625 -6.796875 0.40625 -5.46875 0.40625 -3.09375 C 0.40625 -0.984375 1.140625 0.140625 2.703125 0.140625 C 3.984375 0.140625 4.921875 -0.78125 4.921875 -2.109375 Z M 4.0625 -2.046875 C 4.0625 -1.1875 3.484375 -0.609375 2.703125 -0.609375 C 1.921875 -0.609375 1.328125 -1.21875 1.328125 -2.09375 C 1.328125 -2.9375 1.90625 -3.484375 2.734375 -3.484375 C 3.546875 -3.484375 4.0625 -2.953125 4.0625 -2.046875 Z M 4.0625 -2.046875 \"/>\n",
       "</symbol>\n",
       "<symbol overflow=\"visible\" id=\"glyph2-8\">\n",
       "<path style=\"stroke:none;\" d=\"M 3.328125 0 L 3.328125 -6.796875 L 2.765625 -6.796875 C 2.46875 -5.75 2.28125 -5.609375 0.984375 -5.453125 L 0.984375 -4.84375 L 2.484375 -4.84375 L 2.484375 0 Z M 3.328125 0 \"/>\n",
       "</symbol>\n",
       "<symbol overflow=\"visible\" id=\"glyph2-9\">\n",
       "<path style=\"stroke:none;\" d=\"M 4.859375 -1.96875 C 4.859375 -2.796875 4.515625 -3.28125 3.703125 -3.5625 C 4.34375 -3.8125 4.65625 -4.25 4.65625 -4.9375 C 4.65625 -6.109375 3.875 -6.796875 2.578125 -6.796875 C 1.203125 -6.796875 0.484375 -6.046875 0.453125 -4.609375 L 1.296875 -4.609375 C 1.3125 -5.609375 1.734375 -6.0625 2.59375 -6.0625 C 3.34375 -6.0625 3.796875 -5.625 3.796875 -4.90625 C 3.796875 -4.171875 3.46875 -3.875 2.125 -3.875 L 2.125 -3.171875 L 2.578125 -3.171875 C 3.515625 -3.171875 3.984375 -2.71875 3.984375 -1.96875 C 3.984375 -1.109375 3.46875 -0.609375 2.578125 -0.609375 C 1.65625 -0.609375 1.203125 -1.0625 1.15625 -2.046875 L 0.3125 -2.046875 C 0.40625 -0.53125 1.15625 0.140625 2.546875 0.140625 C 3.953125 0.140625 4.859375 -0.6875 4.859375 -1.96875 Z M 4.859375 -1.96875 \"/>\n",
       "</symbol>\n",
       "<symbol overflow=\"visible\" id=\"glyph2-10\">\n",
       "<path style=\"stroke:none;\" d=\"M 4.921875 -2.25 C 4.921875 -3.59375 4.03125 -4.484375 2.71875 -4.484375 C 2.25 -4.484375 1.859375 -4.359375 1.46875 -4.0625 L 1.734375 -5.828125 L 4.5625 -5.828125 L 4.5625 -6.65625 L 1.0625 -6.65625 L 0.546875 -3.09375 L 1.328125 -3.09375 C 1.71875 -3.5625 2.046875 -3.734375 2.578125 -3.734375 C 3.484375 -3.734375 4.0625 -3.140625 4.0625 -2.140625 C 4.0625 -1.15625 3.484375 -0.609375 2.578125 -0.609375 C 1.828125 -0.609375 1.375 -0.984375 1.1875 -1.75 L 0.328125 -1.75 C 0.609375 -0.390625 1.375 0.140625 2.59375 0.140625 C 3.96875 0.140625 4.921875 -0.8125 4.921875 -2.25 Z M 4.921875 -2.25 \"/>\n",
       "</symbol>\n",
       "</g>\n",
       "<clipPath id=\"clip1\">\n",
       "  <path d=\"M 68.007812 442 L 475.992188 442 L 475.992188 443 L 68.007812 443 Z M 68.007812 442 \"/>\n",
       "</clipPath>\n",
       "<clipPath id=\"clip2\">\n",
       "  <path d=\"M 68.007812 374 L 475.992188 374 L 475.992188 376 L 68.007812 376 Z M 68.007812 374 \"/>\n",
       "</clipPath>\n",
       "<clipPath id=\"clip3\">\n",
       "  <path d=\"M 68.007812 307 L 475.992188 307 L 475.992188 309 L 68.007812 309 Z M 68.007812 307 \"/>\n",
       "</clipPath>\n",
       "<clipPath id=\"clip4\">\n",
       "  <path d=\"M 68.007812 239 L 475.992188 239 L 475.992188 241 L 68.007812 241 Z M 68.007812 239 \"/>\n",
       "</clipPath>\n",
       "<clipPath id=\"clip5\">\n",
       "  <path d=\"M 68.007812 172 L 475.992188 172 L 475.992188 174 L 68.007812 174 Z M 68.007812 172 \"/>\n",
       "</clipPath>\n",
       "<clipPath id=\"clip6\">\n",
       "  <path d=\"M 68.007812 104 L 475.992188 104 L 475.992188 106 L 68.007812 106 Z M 68.007812 104 \"/>\n",
       "</clipPath>\n",
       "<clipPath id=\"clip7\">\n",
       "  <path d=\"M 68.007812 37 L 475.992188 37 L 475.992188 39 L 68.007812 39 Z M 68.007812 37 \"/>\n",
       "</clipPath>\n",
       "<clipPath id=\"clip8\">\n",
       "  <path d=\"M 79 35.007812 L 81 35.007812 L 81 453.992188 L 79 453.992188 Z M 79 35.007812 \"/>\n",
       "</clipPath>\n",
       "<clipPath id=\"clip9\">\n",
       "  <path d=\"M 144 35.007812 L 146 35.007812 L 146 453.992188 L 144 453.992188 Z M 144 35.007812 \"/>\n",
       "</clipPath>\n",
       "<clipPath id=\"clip10\">\n",
       "  <path d=\"M 209 35.007812 L 211 35.007812 L 211 453.992188 L 209 453.992188 Z M 209 35.007812 \"/>\n",
       "</clipPath>\n",
       "<clipPath id=\"clip11\">\n",
       "  <path d=\"M 274 35.007812 L 276 35.007812 L 276 453.992188 L 274 453.992188 Z M 274 35.007812 \"/>\n",
       "</clipPath>\n",
       "<clipPath id=\"clip12\">\n",
       "  <path d=\"M 339 35.007812 L 341 35.007812 L 341 453.992188 L 339 453.992188 Z M 339 35.007812 \"/>\n",
       "</clipPath>\n",
       "<clipPath id=\"clip13\">\n",
       "  <path d=\"M 404 35.007812 L 405 35.007812 L 405 453.992188 L 404 453.992188 Z M 404 35.007812 \"/>\n",
       "</clipPath>\n",
       "<clipPath id=\"clip14\">\n",
       "  <path d=\"M 469 35.007812 L 470 35.007812 L 470 453.992188 L 469 453.992188 Z M 469 35.007812 \"/>\n",
       "</clipPath>\n",
       "</defs>\n",
       "<g id=\"surface63\">\n",
       "<rect x=\"0\" y=\"0\" width=\"504\" height=\"504\" style=\"fill:rgb(100%,100%,100%);fill-opacity:1;stroke:none;\"/>\n",
       "<g style=\"fill:rgb(0%,0%,0%);fill-opacity:1;\">\n",
       "  <use xlink:href=\"#glyph0-1\" x=\"187.5\" y=\"491.776367\"/>\n",
       "  <use xlink:href=\"#glyph0-2\" x=\"194.171875\" y=\"491.776367\"/>\n",
       "  <use xlink:href=\"#glyph0-3\" x=\"202.65625\" y=\"491.776367\"/>\n",
       "  <use xlink:href=\"#glyph0-4\" x=\"209.328125\" y=\"491.776367\"/>\n",
       "  <use xlink:href=\"#glyph0-5\" x=\"216\" y=\"491.776367\"/>\n",
       "  <use xlink:href=\"#glyph0-6\" x=\"222.671875\" y=\"491.776367\"/>\n",
       "  <use xlink:href=\"#glyph0-7\" x=\"229.34375\" y=\"491.776367\"/>\n",
       "  <use xlink:href=\"#glyph0-8\" x=\"239.339844\" y=\"491.776367\"/>\n",
       "  <use xlink:href=\"#glyph0-9\" x=\"241.944336\" y=\"491.776367\"/>\n",
       "  <use xlink:href=\"#glyph0-10\" x=\"247.944336\" y=\"491.776367\"/>\n",
       "  <use xlink:href=\"#glyph0-11\" x=\"251.280273\" y=\"491.776367\"/>\n",
       "  <use xlink:href=\"#glyph0-12\" x=\"259.28418\" y=\"491.776367\"/>\n",
       "  <use xlink:href=\"#glyph0-8\" x=\"265.956055\" y=\"491.776367\"/>\n",
       "  <use xlink:href=\"#glyph0-12\" x=\"268.620117\" y=\"491.776367\"/>\n",
       "  <use xlink:href=\"#glyph0-13\" x=\"275.291992\" y=\"491.776367\"/>\n",
       "  <use xlink:href=\"#glyph0-14\" x=\"281.291992\" y=\"491.776367\"/>\n",
       "  <use xlink:href=\"#glyph0-12\" x=\"284.448242\" y=\"491.776367\"/>\n",
       "  <use xlink:href=\"#glyph0-5\" x=\"291.120117\" y=\"491.776367\"/>\n",
       "  <use xlink:href=\"#glyph0-10\" x=\"297.791992\" y=\"491.776367\"/>\n",
       "  <use xlink:href=\"#glyph0-15\" x=\"301.12793\" y=\"491.776367\"/>\n",
       "  <use xlink:href=\"#glyph0-16\" x=\"309.131836\" y=\"491.776367\"/>\n",
       "  <use xlink:href=\"#glyph0-12\" x=\"313.008789\" y=\"491.776367\"/>\n",
       "  <use xlink:href=\"#glyph0-5\" x=\"319.680664\" y=\"491.776367\"/>\n",
       "  <use xlink:href=\"#glyph0-17\" x=\"326.352539\" y=\"491.776367\"/>\n",
       "  <use xlink:href=\"#glyph0-13\" x=\"329.016602\" y=\"491.776367\"/>\n",
       "  <use xlink:href=\"#glyph0-14\" x=\"335.016602\" y=\"491.776367\"/>\n",
       "  <use xlink:href=\"#glyph0-6\" x=\"338.233398\" y=\"491.776367\"/>\n",
       "  <use xlink:href=\"#glyph0-16\" x=\"344.905273\" y=\"491.776367\"/>\n",
       "  <use xlink:href=\"#glyph0-18\" x=\"348.960938\" y=\"491.776367\"/>\n",
       "</g>\n",
       "<g style=\"fill:rgb(0%,0%,0%);fill-opacity:1;\">\n",
       "  <use xlink:href=\"#glyph1-1\" x=\"14.776367\" y=\"318\"/>\n",
       "  <use xlink:href=\"#glyph1-2\" x=\"14.776367\" y=\"310.115234\"/>\n",
       "  <use xlink:href=\"#glyph1-2\" x=\"14.776367\" y=\"304.115234\"/>\n",
       "  <use xlink:href=\"#glyph1-3\" x=\"14.776367\" y=\"298.115234\"/>\n",
       "  <use xlink:href=\"#glyph1-4\" x=\"14.776367\" y=\"291.443359\"/>\n",
       "  <use xlink:href=\"#glyph1-5\" x=\"14.776367\" y=\"287.506836\"/>\n",
       "  <use xlink:href=\"#glyph1-2\" x=\"14.776367\" y=\"280.834961\"/>\n",
       "  <use xlink:href=\"#glyph1-6\" x=\"14.776367\" y=\"274.834961\"/>\n",
       "  <use xlink:href=\"#glyph1-7\" x=\"14.776367\" y=\"268.834961\"/>\n",
       "  <use xlink:href=\"#glyph1-8\" x=\"14.776367\" y=\"265.499023\"/>\n",
       "  <use xlink:href=\"#glyph1-9\" x=\"14.776367\" y=\"261.50293\"/>\n",
       "  <use xlink:href=\"#glyph1-4\" x=\"14.776367\" y=\"252.838867\"/>\n",
       "  <use xlink:href=\"#glyph1-10\" x=\"14.776367\" y=\"248.902344\"/>\n",
       "  <use xlink:href=\"#glyph1-11\" x=\"14.776367\" y=\"242.230469\"/>\n",
       "  <use xlink:href=\"#glyph1-11\" x=\"14.776367\" y=\"236.230469\"/>\n",
       "  <use xlink:href=\"#glyph1-12\" x=\"14.776367\" y=\"230.230469\"/>\n",
       "  <use xlink:href=\"#glyph1-13\" x=\"14.776367\" y=\"226.773438\"/>\n",
       "  <use xlink:href=\"#glyph1-5\" x=\"14.776367\" y=\"219.489258\"/>\n",
       "  <use xlink:href=\"#glyph1-14\" x=\"14.776367\" y=\"212.817383\"/>\n",
       "  <use xlink:href=\"#glyph1-15\" x=\"14.776367\" y=\"210.15332\"/>\n",
       "  <use xlink:href=\"#glyph1-16\" x=\"14.776367\" y=\"207.489258\"/>\n",
       "  <use xlink:href=\"#glyph1-5\" x=\"14.776367\" y=\"200.817383\"/>\n",
       "  <use xlink:href=\"#glyph1-17\" x=\"14.776367\" y=\"194.145508\"/>\n",
       "  <use xlink:href=\"#glyph1-15\" x=\"14.776367\" y=\"190.80957\"/>\n",
       "  <use xlink:href=\"#glyph1-10\" x=\"14.776367\" y=\"188.145508\"/>\n",
       "  <use xlink:href=\"#glyph1-18\" x=\"14.776367\" y=\"181.473633\"/>\n",
       "  <use xlink:href=\"#glyph1-19\" x=\"14.776367\" y=\"174.801758\"/>\n",
       "</g>\n",
       "<path style=\"fill:none;stroke-width:0.75;stroke-linecap:round;stroke-linejoin:round;stroke:rgb(0%,0%,0%);stroke-opacity:1;stroke-miterlimit:10;\" d=\"M 80.015625 35.007812 L 80.015625 29.339844 \"/>\n",
       "<path style=\"fill:none;stroke-width:0.75;stroke-linecap:round;stroke-linejoin:round;stroke:rgb(0%,0%,0%);stroke-opacity:1;stroke-miterlimit:10;\" d=\"M 144.925781 35.007812 L 144.925781 29.339844 \"/>\n",
       "<path style=\"fill:none;stroke-width:0.75;stroke-linecap:round;stroke-linejoin:round;stroke:rgb(0%,0%,0%);stroke-opacity:1;stroke-miterlimit:10;\" d=\"M 209.835938 35.007812 L 209.835938 29.339844 \"/>\n",
       "<path style=\"fill:none;stroke-width:0.75;stroke-linecap:round;stroke-linejoin:round;stroke:rgb(0%,0%,0%);stroke-opacity:1;stroke-miterlimit:10;\" d=\"M 274.746094 35.007812 L 274.746094 29.339844 \"/>\n",
       "<path style=\"fill:none;stroke-width:0.75;stroke-linecap:round;stroke-linejoin:round;stroke:rgb(0%,0%,0%);stroke-opacity:1;stroke-miterlimit:10;\" d=\"M 339.65625 35.007812 L 339.65625 29.339844 \"/>\n",
       "<path style=\"fill:none;stroke-width:0.75;stroke-linecap:round;stroke-linejoin:round;stroke:rgb(0%,0%,0%);stroke-opacity:1;stroke-miterlimit:10;\" d=\"M 404.566406 35.007812 L 404.566406 29.339844 \"/>\n",
       "<path style=\"fill:none;stroke-width:0.75;stroke-linecap:round;stroke-linejoin:round;stroke:rgb(0%,0%,0%);stroke-opacity:1;stroke-miterlimit:10;\" d=\"M 469.476562 35.007812 L 469.476562 29.339844 \"/>\n",
       "<path style=\"fill:none;stroke-width:0.75;stroke-linecap:round;stroke-linejoin:round;stroke:rgb(0%,0%,0%);stroke-opacity:1;stroke-miterlimit:10;\" d=\"M 68.007812 442.589844 L 62.339844 442.589844 \"/>\n",
       "<path style=\"fill:none;stroke-width:0.75;stroke-linecap:round;stroke-linejoin:round;stroke:rgb(0%,0%,0%);stroke-opacity:1;stroke-miterlimit:10;\" d=\"M 68.007812 375.121094 L 62.339844 375.121094 \"/>\n",
       "<path style=\"fill:none;stroke-width:0.75;stroke-linecap:round;stroke-linejoin:round;stroke:rgb(0%,0%,0%);stroke-opacity:1;stroke-miterlimit:10;\" d=\"M 68.007812 307.652344 L 62.339844 307.652344 \"/>\n",
       "<path style=\"fill:none;stroke-width:0.75;stroke-linecap:round;stroke-linejoin:round;stroke:rgb(0%,0%,0%);stroke-opacity:1;stroke-miterlimit:10;\" d=\"M 68.007812 240.179688 L 62.339844 240.179688 \"/>\n",
       "<path style=\"fill:none;stroke-width:0.75;stroke-linecap:round;stroke-linejoin:round;stroke:rgb(0%,0%,0%);stroke-opacity:1;stroke-miterlimit:10;\" d=\"M 68.007812 172.710938 L 62.339844 172.710938 \"/>\n",
       "<path style=\"fill:none;stroke-width:0.75;stroke-linecap:round;stroke-linejoin:round;stroke:rgb(0%,0%,0%);stroke-opacity:1;stroke-miterlimit:10;\" d=\"M 68.007812 105.242188 L 62.339844 105.242188 \"/>\n",
       "<path style=\"fill:none;stroke-width:0.75;stroke-linecap:round;stroke-linejoin:round;stroke:rgb(0%,0%,0%);stroke-opacity:1;stroke-miterlimit:10;\" d=\"M 68.007812 37.769531 L 62.339844 37.769531 \"/>\n",
       "<g style=\"fill:rgb(0%,0%,0%);fill-opacity:1;\">\n",
       "  <use xlink:href=\"#glyph2-1\" x=\"26.667969\" y=\"445.109375\"/>\n",
       "  <use xlink:href=\"#glyph2-2\" x=\"32.001953\" y=\"445.109375\"/>\n",
       "  <use xlink:href=\"#glyph2-3\" x=\"34.668945\" y=\"445.109375\"/>\n",
       "  <use xlink:href=\"#glyph2-3\" x=\"40.00293\" y=\"445.109375\"/>\n",
       "  <use xlink:href=\"#glyph2-4\" x=\"45.336914\" y=\"445.109375\"/>\n",
       "  <use xlink:href=\"#glyph2-4\" x=\"50.670898\" y=\"445.109375\"/>\n",
       "</g>\n",
       "<g style=\"fill:rgb(0%,0%,0%);fill-opacity:1;\">\n",
       "  <use xlink:href=\"#glyph2-1\" x=\"26.667969\" y=\"377.640625\"/>\n",
       "  <use xlink:href=\"#glyph2-2\" x=\"32.001953\" y=\"377.640625\"/>\n",
       "  <use xlink:href=\"#glyph2-3\" x=\"34.668945\" y=\"377.640625\"/>\n",
       "  <use xlink:href=\"#glyph2-3\" x=\"40.00293\" y=\"377.640625\"/>\n",
       "  <use xlink:href=\"#glyph2-3\" x=\"45.336914\" y=\"377.640625\"/>\n",
       "  <use xlink:href=\"#glyph2-1\" x=\"50.670898\" y=\"377.640625\"/>\n",
       "</g>\n",
       "<g style=\"fill:rgb(0%,0%,0%);fill-opacity:1;\">\n",
       "  <use xlink:href=\"#glyph2-1\" x=\"26.667969\" y=\"310.171875\"/>\n",
       "  <use xlink:href=\"#glyph2-2\" x=\"32.001953\" y=\"310.171875\"/>\n",
       "  <use xlink:href=\"#glyph2-3\" x=\"34.668945\" y=\"310.171875\"/>\n",
       "  <use xlink:href=\"#glyph2-3\" x=\"40.00293\" y=\"310.171875\"/>\n",
       "  <use xlink:href=\"#glyph2-3\" x=\"45.336914\" y=\"310.171875\"/>\n",
       "  <use xlink:href=\"#glyph2-5\" x=\"50.670898\" y=\"310.171875\"/>\n",
       "</g>\n",
       "<g style=\"fill:rgb(0%,0%,0%);fill-opacity:1;\">\n",
       "  <use xlink:href=\"#glyph2-1\" x=\"26.667969\" y=\"242.699219\"/>\n",
       "  <use xlink:href=\"#glyph2-2\" x=\"32.001953\" y=\"242.699219\"/>\n",
       "  <use xlink:href=\"#glyph2-3\" x=\"34.668945\" y=\"242.699219\"/>\n",
       "  <use xlink:href=\"#glyph2-3\" x=\"40.00293\" y=\"242.699219\"/>\n",
       "  <use xlink:href=\"#glyph2-3\" x=\"45.336914\" y=\"242.699219\"/>\n",
       "  <use xlink:href=\"#glyph2-6\" x=\"50.670898\" y=\"242.699219\"/>\n",
       "</g>\n",
       "<g style=\"fill:rgb(0%,0%,0%);fill-opacity:1;\">\n",
       "  <use xlink:href=\"#glyph2-1\" x=\"26.667969\" y=\"175.230469\"/>\n",
       "  <use xlink:href=\"#glyph2-2\" x=\"32.001953\" y=\"175.230469\"/>\n",
       "  <use xlink:href=\"#glyph2-3\" x=\"34.668945\" y=\"175.230469\"/>\n",
       "  <use xlink:href=\"#glyph2-3\" x=\"40.00293\" y=\"175.230469\"/>\n",
       "  <use xlink:href=\"#glyph2-3\" x=\"45.336914\" y=\"175.230469\"/>\n",
       "  <use xlink:href=\"#glyph2-7\" x=\"50.670898\" y=\"175.230469\"/>\n",
       "</g>\n",
       "<g style=\"fill:rgb(0%,0%,0%);fill-opacity:1;\">\n",
       "  <use xlink:href=\"#glyph2-1\" x=\"26.667969\" y=\"107.761719\"/>\n",
       "  <use xlink:href=\"#glyph2-2\" x=\"32.001953\" y=\"107.761719\"/>\n",
       "  <use xlink:href=\"#glyph2-3\" x=\"34.668945\" y=\"107.761719\"/>\n",
       "  <use xlink:href=\"#glyph2-3\" x=\"40.00293\" y=\"107.761719\"/>\n",
       "  <use xlink:href=\"#glyph2-3\" x=\"45.336914\" y=\"107.761719\"/>\n",
       "  <use xlink:href=\"#glyph2-4\" x=\"50.670898\" y=\"107.761719\"/>\n",
       "</g>\n",
       "<path style=\"fill:none;stroke-width:0.75;stroke-linecap:round;stroke-linejoin:round;stroke:rgb(0%,0%,0%);stroke-opacity:1;stroke-miterlimit:10;\" d=\"M 80.015625 452.992188 L 80.015625 458.660156 \"/>\n",
       "<path style=\"fill:none;stroke-width:0.75;stroke-linecap:round;stroke-linejoin:round;stroke:rgb(0%,0%,0%);stroke-opacity:1;stroke-miterlimit:10;\" d=\"M 144.925781 452.992188 L 144.925781 458.660156 \"/>\n",
       "<path style=\"fill:none;stroke-width:0.75;stroke-linecap:round;stroke-linejoin:round;stroke:rgb(0%,0%,0%);stroke-opacity:1;stroke-miterlimit:10;\" d=\"M 209.835938 452.992188 L 209.835938 458.660156 \"/>\n",
       "<path style=\"fill:none;stroke-width:0.75;stroke-linecap:round;stroke-linejoin:round;stroke:rgb(0%,0%,0%);stroke-opacity:1;stroke-miterlimit:10;\" d=\"M 274.746094 452.992188 L 274.746094 458.660156 \"/>\n",
       "<path style=\"fill:none;stroke-width:0.75;stroke-linecap:round;stroke-linejoin:round;stroke:rgb(0%,0%,0%);stroke-opacity:1;stroke-miterlimit:10;\" d=\"M 339.65625 452.992188 L 339.65625 458.660156 \"/>\n",
       "<path style=\"fill:none;stroke-width:0.75;stroke-linecap:round;stroke-linejoin:round;stroke:rgb(0%,0%,0%);stroke-opacity:1;stroke-miterlimit:10;\" d=\"M 404.566406 452.992188 L 404.566406 458.660156 \"/>\n",
       "<path style=\"fill:none;stroke-width:0.75;stroke-linecap:round;stroke-linejoin:round;stroke:rgb(0%,0%,0%);stroke-opacity:1;stroke-miterlimit:10;\" d=\"M 469.476562 452.992188 L 469.476562 458.660156 \"/>\n",
       "<g style=\"fill:rgb(0%,0%,0%);fill-opacity:1;\">\n",
       "  <use xlink:href=\"#glyph2-1\" x=\"77.015625\" y=\"470.351562\"/>\n",
       "</g>\n",
       "<g style=\"fill:rgb(0%,0%,0%);fill-opacity:1;\">\n",
       "  <use xlink:href=\"#glyph2-8\" x=\"139.425781\" y=\"470.351562\"/>\n",
       "  <use xlink:href=\"#glyph2-1\" x=\"144.759766\" y=\"470.351562\"/>\n",
       "</g>\n",
       "<g style=\"fill:rgb(0%,0%,0%);fill-opacity:1;\">\n",
       "  <use xlink:href=\"#glyph2-5\" x=\"204.335938\" y=\"470.351562\"/>\n",
       "  <use xlink:href=\"#glyph2-1\" x=\"209.669922\" y=\"470.351562\"/>\n",
       "</g>\n",
       "<g style=\"fill:rgb(0%,0%,0%);fill-opacity:1;\">\n",
       "  <use xlink:href=\"#glyph2-9\" x=\"269.246094\" y=\"470.351562\"/>\n",
       "  <use xlink:href=\"#glyph2-1\" x=\"274.580078\" y=\"470.351562\"/>\n",
       "</g>\n",
       "<g style=\"fill:rgb(0%,0%,0%);fill-opacity:1;\">\n",
       "  <use xlink:href=\"#glyph2-6\" x=\"334.15625\" y=\"470.351562\"/>\n",
       "  <use xlink:href=\"#glyph2-1\" x=\"339.490234\" y=\"470.351562\"/>\n",
       "</g>\n",
       "<g style=\"fill:rgb(0%,0%,0%);fill-opacity:1;\">\n",
       "  <use xlink:href=\"#glyph2-10\" x=\"399.066406\" y=\"470.351562\"/>\n",
       "  <use xlink:href=\"#glyph2-1\" x=\"404.400391\" y=\"470.351562\"/>\n",
       "</g>\n",
       "<path style=\"fill:none;stroke-width:0.75;stroke-linecap:round;stroke-linejoin:round;stroke:rgb(0%,0%,0%);stroke-opacity:1;stroke-miterlimit:10;\" d=\"M 474.992188 442.589844 L 480.660156 442.589844 \"/>\n",
       "<path style=\"fill:none;stroke-width:0.75;stroke-linecap:round;stroke-linejoin:round;stroke:rgb(0%,0%,0%);stroke-opacity:1;stroke-miterlimit:10;\" d=\"M 474.992188 375.121094 L 480.660156 375.121094 \"/>\n",
       "<path style=\"fill:none;stroke-width:0.75;stroke-linecap:round;stroke-linejoin:round;stroke:rgb(0%,0%,0%);stroke-opacity:1;stroke-miterlimit:10;\" d=\"M 474.992188 307.652344 L 480.660156 307.652344 \"/>\n",
       "<path style=\"fill:none;stroke-width:0.75;stroke-linecap:round;stroke-linejoin:round;stroke:rgb(0%,0%,0%);stroke-opacity:1;stroke-miterlimit:10;\" d=\"M 474.992188 240.179688 L 480.660156 240.179688 \"/>\n",
       "<path style=\"fill:none;stroke-width:0.75;stroke-linecap:round;stroke-linejoin:round;stroke:rgb(0%,0%,0%);stroke-opacity:1;stroke-miterlimit:10;\" d=\"M 474.992188 172.710938 L 480.660156 172.710938 \"/>\n",
       "<path style=\"fill:none;stroke-width:0.75;stroke-linecap:round;stroke-linejoin:round;stroke:rgb(0%,0%,0%);stroke-opacity:1;stroke-miterlimit:10;\" d=\"M 474.992188 105.242188 L 480.660156 105.242188 \"/>\n",
       "<path style=\"fill:none;stroke-width:0.75;stroke-linecap:round;stroke-linejoin:round;stroke:rgb(0%,0%,0%);stroke-opacity:1;stroke-miterlimit:10;\" d=\"M 474.992188 37.769531 L 480.660156 37.769531 \"/>\n",
       "<g clip-path=\"url(#clip1)\" clip-rule=\"nonzero\">\n",
       "<path style=\"fill:none;stroke-width:0.75;stroke-linecap:round;stroke-linejoin:round;stroke:rgb(90.196078%,90.196078%,90.196078%);stroke-opacity:1;stroke-miterlimit:10;\" d=\"M 68.007812 442.589844 L 474.992188 442.589844 \"/>\n",
       "</g>\n",
       "<g clip-path=\"url(#clip2)\" clip-rule=\"nonzero\">\n",
       "<path style=\"fill:none;stroke-width:0.75;stroke-linecap:round;stroke-linejoin:round;stroke:rgb(90.196078%,90.196078%,90.196078%);stroke-opacity:1;stroke-miterlimit:10;\" d=\"M 68.007812 375.121094 L 474.992188 375.121094 \"/>\n",
       "</g>\n",
       "<g clip-path=\"url(#clip3)\" clip-rule=\"nonzero\">\n",
       "<path style=\"fill:none;stroke-width:0.75;stroke-linecap:round;stroke-linejoin:round;stroke:rgb(90.196078%,90.196078%,90.196078%);stroke-opacity:1;stroke-miterlimit:10;\" d=\"M 68.007812 307.652344 L 474.992188 307.652344 \"/>\n",
       "</g>\n",
       "<g clip-path=\"url(#clip4)\" clip-rule=\"nonzero\">\n",
       "<path style=\"fill:none;stroke-width:0.75;stroke-linecap:round;stroke-linejoin:round;stroke:rgb(90.196078%,90.196078%,90.196078%);stroke-opacity:1;stroke-miterlimit:10;\" d=\"M 68.007812 240.179688 L 474.992188 240.179688 \"/>\n",
       "</g>\n",
       "<g clip-path=\"url(#clip5)\" clip-rule=\"nonzero\">\n",
       "<path style=\"fill:none;stroke-width:0.75;stroke-linecap:round;stroke-linejoin:round;stroke:rgb(90.196078%,90.196078%,90.196078%);stroke-opacity:1;stroke-miterlimit:10;\" d=\"M 68.007812 172.710938 L 474.992188 172.710938 \"/>\n",
       "</g>\n",
       "<g clip-path=\"url(#clip6)\" clip-rule=\"nonzero\">\n",
       "<path style=\"fill:none;stroke-width:0.75;stroke-linecap:round;stroke-linejoin:round;stroke:rgb(90.196078%,90.196078%,90.196078%);stroke-opacity:1;stroke-miterlimit:10;\" d=\"M 68.007812 105.242188 L 474.992188 105.242188 \"/>\n",
       "</g>\n",
       "<g clip-path=\"url(#clip7)\" clip-rule=\"nonzero\">\n",
       "<path style=\"fill:none;stroke-width:0.75;stroke-linecap:round;stroke-linejoin:round;stroke:rgb(90.196078%,90.196078%,90.196078%);stroke-opacity:1;stroke-miterlimit:10;\" d=\"M 68.007812 37.769531 L 474.992188 37.769531 \"/>\n",
       "</g>\n",
       "<g clip-path=\"url(#clip8)\" clip-rule=\"nonzero\">\n",
       "<path style=\"fill:none;stroke-width:0.75;stroke-linecap:round;stroke-linejoin:round;stroke:rgb(90.196078%,90.196078%,90.196078%);stroke-opacity:1;stroke-miterlimit:10;\" d=\"M 80.015625 452.992188 L 80.015625 35.007812 \"/>\n",
       "</g>\n",
       "<g clip-path=\"url(#clip9)\" clip-rule=\"nonzero\">\n",
       "<path style=\"fill:none;stroke-width:0.75;stroke-linecap:round;stroke-linejoin:round;stroke:rgb(90.196078%,90.196078%,90.196078%);stroke-opacity:1;stroke-miterlimit:10;\" d=\"M 144.925781 452.992188 L 144.925781 35.007812 \"/>\n",
       "</g>\n",
       "<g clip-path=\"url(#clip10)\" clip-rule=\"nonzero\">\n",
       "<path style=\"fill:none;stroke-width:0.75;stroke-linecap:round;stroke-linejoin:round;stroke:rgb(90.196078%,90.196078%,90.196078%);stroke-opacity:1;stroke-miterlimit:10;\" d=\"M 209.835938 452.992188 L 209.835938 35.007812 \"/>\n",
       "</g>\n",
       "<g clip-path=\"url(#clip11)\" clip-rule=\"nonzero\">\n",
       "<path style=\"fill:none;stroke-width:0.75;stroke-linecap:round;stroke-linejoin:round;stroke:rgb(90.196078%,90.196078%,90.196078%);stroke-opacity:1;stroke-miterlimit:10;\" d=\"M 274.746094 452.992188 L 274.746094 35.007812 \"/>\n",
       "</g>\n",
       "<g clip-path=\"url(#clip12)\" clip-rule=\"nonzero\">\n",
       "<path style=\"fill:none;stroke-width:0.75;stroke-linecap:round;stroke-linejoin:round;stroke:rgb(90.196078%,90.196078%,90.196078%);stroke-opacity:1;stroke-miterlimit:10;\" d=\"M 339.65625 452.992188 L 339.65625 35.007812 \"/>\n",
       "</g>\n",
       "<g clip-path=\"url(#clip13)\" clip-rule=\"nonzero\">\n",
       "<path style=\"fill:none;stroke-width:0.75;stroke-linecap:round;stroke-linejoin:round;stroke:rgb(90.196078%,90.196078%,90.196078%);stroke-opacity:1;stroke-miterlimit:10;\" d=\"M 404.566406 452.992188 L 404.566406 35.007812 \"/>\n",
       "</g>\n",
       "<g clip-path=\"url(#clip14)\" clip-rule=\"nonzero\">\n",
       "<path style=\"fill:none;stroke-width:0.75;stroke-linecap:round;stroke-linejoin:round;stroke:rgb(90.196078%,90.196078%,90.196078%);stroke-opacity:1;stroke-miterlimit:10;\" d=\"M 469.476562 452.992188 L 469.476562 35.007812 \"/>\n",
       "</g>\n",
       "<path style=\"fill:none;stroke-width:0.75;stroke-linecap:round;stroke-linejoin:round;stroke:rgb(0%,50.196078%,100%);stroke-opacity:1;stroke-miterlimit:10;\" d=\"M 95.398438 427.328125 C 95.398438 430.527344 90.597656 430.527344 90.597656 427.328125 C 90.597656 424.125 95.398438 424.125 95.398438 427.328125 \"/>\n",
       "<path style=\"fill:none;stroke-width:0.75;stroke-linecap:round;stroke-linejoin:round;stroke:rgb(0%,50.196078%,100%);stroke-opacity:1;stroke-miterlimit:10;\" d=\"M 270.65625 60.671875 C 270.65625 63.875 265.855469 63.875 265.855469 60.671875 C 265.855469 57.472656 270.65625 57.472656 270.65625 60.671875 \"/>\n",
       "<path style=\"fill:none;stroke-width:0.75;stroke-linecap:round;stroke-linejoin:round;stroke:rgb(0%,50.196078%,100%);stroke-opacity:1;stroke-miterlimit:10;\" d=\"M 452.402344 129.441406 C 452.402344 132.640625 447.601562 132.640625 447.601562 129.441406 C 447.601562 126.242188 452.402344 126.242188 452.402344 129.441406 \"/>\n",
       "<path style=\"fill:none;stroke-width:0.75;stroke-linecap:round;stroke-linejoin:round;stroke:rgb(0%,50.196078%,100%);stroke-opacity:1;stroke-miterlimit:10;\" d=\"M 93 427.328125 L 268.253906 60.671875 L 450 129.441406 \"/>\n",
       "<path style=\"fill:none;stroke-width:0.75;stroke-linecap:round;stroke-linejoin:round;stroke:rgb(0%,0%,0%);stroke-opacity:1;stroke-miterlimit:10;\" d=\"M 68.007812 452.992188 L 474.992188 452.992188 L 474.992188 35.007812 L 68.007812 35.007812 Z M 68.007812 452.992188 \"/>\n",
       "</g>\n",
       "</svg>\n"
      ],
      "text/plain": [
       "plot without title"
      ]
     },
     "metadata": {
      "image/svg+xml": {
       "isolated": true
      }
     },
     "output_type": "display_data"
    }
   ],
   "source": [
    "fit <- train(x,y, method=\"rf\",data=trainD,trControl = fitControl)\n",
    "plot(fit)"
   ]
  },
  {
   "cell_type": "code",
   "execution_count": 10,
   "metadata": {
    "collapsed": false
   },
   "outputs": [
    {
     "data": {
      "text/plain": [
       "       \n",
       "rf.pred    A    B    C    D    E\n",
       "      A 1395    0    0    0    0\n",
       "      B    0  949    1    0    0\n",
       "      C    0    0  854    0    0\n",
       "      D    0    0    0  804    0\n",
       "      E    0    0    0    0  901"
      ]
     },
     "execution_count": 10,
     "metadata": {},
     "output_type": "execute_result"
    }
   ],
   "source": [
    "rf.pred=predict(fit,testD[,-58])\n",
    "confusionMat=table(rf.pred,testD[,58])\n",
    "confusionMat"
   ]
  },
  {
   "cell_type": "code",
   "execution_count": 14,
   "metadata": {
    "collapsed": false
   },
   "outputs": [],
   "source": [
    "#str(trainD)"
   ]
  },
  {
   "cell_type": "markdown",
   "metadata": {
    "collapsed": false
   },
   "source": [
    "the results appear to be too precise to be true, which means we are probably overfitting.\n",
    "However, we are using cross validation to select the variables and it appears peak above 0.9998 accuracy around 30 variables. We where unable to find an explanation for overfitting and had to conclude that the high performance on the test set is probably due to data being artificial not having enough noise."
   ]
  },
  {
   "cell_type": "code",
   "execution_count": 15,
   "metadata": {
    "collapsed": false
   },
   "outputs": [
    {
     "data": {
      "text/html": [
       "<ol class=list-inline>\n",
       "\t<li>20</li>\n",
       "\t<li>60</li>\n",
       "</ol>\n"
      ],
      "text/latex": [
       "\\begin{enumerate*}\n",
       "\\item 20\n",
       "\\item 60\n",
       "\\end{enumerate*}\n"
      ],
      "text/markdown": [
       "1. 20\n",
       "2. 60\n",
       "\n",
       "\n"
      ],
      "text/plain": [
       "[1] 20 60"
      ]
     },
     "execution_count": 15,
     "metadata": {},
     "output_type": "execute_result"
    }
   ],
   "source": [
    "vData=read.csv(file=\"pml-testing.csv\", na.strings=c(\"NA\",\"\"), header=TRUE)\n",
    "b=sapply(vData, function(x) sum(is.na(x)))\n",
    "fvData=subset(vData,select=c(which(!b>0)), stringsAsFactors=FALSE)\n",
    "#str(vData)\n",
    "#dim(vData)\n",
    "svData=fvData\n",
    "svData=svData[,colSums(svData != 0) != 0] \n",
    "dim(svData)\n",
    "s=sapply(svData, function(x) sum(is.na(x)))\n",
    "#str(svData)"
   ]
  },
  {
   "cell_type": "code",
   "execution_count": 16,
   "metadata": {
    "collapsed": false
   },
   "outputs": [
    {
     "data": {
      "text/html": [
       "20"
      ],
      "text/latex": [
       "20"
      ],
      "text/markdown": [
       "20"
      ],
      "text/plain": [
       "[1] 20"
      ]
     },
     "execution_count": 16,
     "metadata": {},
     "output_type": "execute_result"
    },
    {
     "data": {
      "text/html": [
       "<ol class=list-inline>\n",
       "\t<li>20</li>\n",
       "\t<li>58</li>\n",
       "</ol>\n"
      ],
      "text/latex": [
       "\\begin{enumerate*}\n",
       "\\item 20\n",
       "\\item 58\n",
       "\\end{enumerate*}\n"
      ],
      "text/markdown": [
       "1. 20\n",
       "2. 58\n",
       "\n",
       "\n"
      ],
      "text/plain": [
       "[1] 20 58"
      ]
     },
     "execution_count": 16,
     "metadata": {},
     "output_type": "execute_result"
    },
    {
     "data": {
      "text/html": [
       "<ol class=list-inline>\n",
       "\t<li>A</li>\n",
       "\t<li>A</li>\n",
       "\t<li>A</li>\n",
       "\t<li>A</li>\n",
       "\t<li>A</li>\n",
       "\t<li>A</li>\n",
       "\t<li>A</li>\n",
       "\t<li>A</li>\n",
       "\t<li>A</li>\n",
       "\t<li>A</li>\n",
       "\t<li>A</li>\n",
       "\t<li>A</li>\n",
       "\t<li>A</li>\n",
       "\t<li>A</li>\n",
       "\t<li>A</li>\n",
       "\t<li>A</li>\n",
       "\t<li>A</li>\n",
       "\t<li>A</li>\n",
       "\t<li>A</li>\n",
       "\t<li>A</li>\n",
       "</ol>\n"
      ],
      "text/latex": [
       "\\begin{enumerate*}\n",
       "\\item A\n",
       "\\item A\n",
       "\\item A\n",
       "\\item A\n",
       "\\item A\n",
       "\\item A\n",
       "\\item A\n",
       "\\item A\n",
       "\\item A\n",
       "\\item A\n",
       "\\item A\n",
       "\\item A\n",
       "\\item A\n",
       "\\item A\n",
       "\\item A\n",
       "\\item A\n",
       "\\item A\n",
       "\\item A\n",
       "\\item A\n",
       "\\item A\n",
       "\\end{enumerate*}\n"
      ],
      "text/markdown": [
       "1. A\n",
       "2. A\n",
       "3. A\n",
       "4. A\n",
       "5. A\n",
       "6. A\n",
       "7. A\n",
       "8. A\n",
       "9. A\n",
       "10. A\n",
       "11. A\n",
       "12. A\n",
       "13. A\n",
       "14. A\n",
       "15. A\n",
       "16. A\n",
       "17. A\n",
       "18. A\n",
       "19. A\n",
       "20. A\n",
       "\n",
       "\n"
      ],
      "text/plain": [
       " [1] A A A A A A A A A A A A A A A A A A A A\n",
       "Levels: A B C D E"
      ]
     },
     "execution_count": 16,
     "metadata": {},
     "output_type": "execute_result"
    }
   ],
   "source": [
    "validationData=svData\n",
    "validationData$cvtd_timestamp=NULL\n",
    "validationData$new_window=NULL\n",
    "nrow(validationData)\n",
    "#str(validationData)\n",
    "dim(validationData)\n",
    "validation.pred=predict(fit, validationData)\n",
    "validation.pred"
   ]
  },
  {
   "cell_type": "code",
   "execution_count": null,
   "metadata": {
    "collapsed": true
   },
   "outputs": [],
   "source": []
  }
 ],
 "metadata": {
  "kernelspec": {
   "display_name": "R",
   "language": "R",
   "name": "ir"
  },
  "language_info": {
   "codemirror_mode": "r",
   "file_extension": ".r",
   "mimetype": "text/x-r-source",
   "name": "R",
   "pygments_lexer": "r",
   "version": "3.2.3"
  }
 },
 "nbformat": 4,
 "nbformat_minor": 0
}
